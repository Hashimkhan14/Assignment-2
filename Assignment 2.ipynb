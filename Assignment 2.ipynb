{
 "cells": [
  {
   "cell_type": "markdown",
   "id": "87a468a9-e95b-42d5-8a33-5bc036225b9b",
   "metadata": {},
   "source": [
    "Q1. How do you comment code in Python? What are the different types of comments?\n",
    "\n",
    "Sol. In Python, you can add comments to your code to provide explanations, document your code, or temporarily disable certain portion of code. There are two primary ways to add comments in python:\n",
    "\n",
    "-Single-line comments: To add a comment that spans a single line, you can use the hash character(#) followed by comment text. Everything after the hash symbol on that line will be considered a comment."
   ]
  },
  {
   "cell_type": "markdown",
   "id": "c69b6a75-0996-4de3-8aa4-f15944274a4e",
   "metadata": {},
   "source": [
    "#This is a single-line comment"
   ]
  },
  {
   "cell_type": "markdown",
   "id": "d54a03eb-aedd-42cd-abe6-26531c1b260d",
   "metadata": {
    "tags": []
   },
   "source": [
    "-Multi-line comments: If you need to add comments that span multiple lines, you can enclose the comment text within triple (''' ''') or triple double quotes(\"\"\" \"\"\"). This allows you to write comments across multiple lines without using the hash charactor at the beginning of each line."
   ]
  },
  {
   "cell_type": "markdown",
   "id": "cdf0862f-0e72-48be-998e-ebcbe1bfeb28",
   "metadata": {},
   "source": [
    "'''This is a multi-line comment.\n",
    "It can span multiple lines.'''\n",
    "\n",
    "\"\"\"This is another way to write multi-line comment.\"\"\"\n",
    "Both single-line and double-line comments are used for same purpose of providing explanation or documenting code. However, multi-line comments are often preferred for longer comments or documentation blocks.\n"
   ]
  },
  {
   "cell_type": "markdown",
   "id": "cf70e46f-bf83-4db1-81cd-5f6d333e41cc",
   "metadata": {},
   "source": [
    "Q2. What are variables in Python? How do you declare and assign values to variables?\n",
    "\n",
    "Sol. In Python, variables are used to store data or values that can be accessed and manipulated throughout the program. Variables act as containers that hold different types of data, such as numbers, strings, lists, or more complex objects. For example:\n",
    "variable_name=value"
   ]
  },
  {
   "cell_type": "code",
   "execution_count": 109,
   "id": "e2b683f1-447b-480a-b5a4-336b6e88c00f",
   "metadata": {},
   "outputs": [],
   "source": [
    "#Declaring and assigning a value to a variable\n",
    "name='Hashim Khan'"
   ]
  },
  {
   "cell_type": "markdown",
   "id": "b05d29f4-ae1b-4c9c-89e0-1504f1d0cabd",
   "metadata": {},
   "source": [
    "In the above code, a variable named 'name' is declared and assigned the string value 'Hashim khan'. Now, you can use the variable 'name' throughout the program to access or manipulate the assigned value."
   ]
  },
  {
   "cell_type": "markdown",
   "id": "684ac316-042d-4f72-a6b5-1bef1d6f5a84",
   "metadata": {},
   "source": [
    "Q3. How do you convert one data type to another in Python?\n",
    "\n",
    "Sol. In Python, you can convert one data type to another using type conversion functions or constructors that are built-in to the language. Here are some commonly used type conversion functions:"
   ]
  },
  {
   "cell_type": "code",
   "execution_count": 110,
   "id": "6961bb73-b075-48a2-ae14-6d2afdb40adb",
   "metadata": {},
   "outputs": [],
   "source": [
    "'''list(): Converts an iterable (e.g., string,tuple,set) to a list.\n",
    "l=list('hashim')\n",
    "#Converts the string 'hashim' to a list['h','a','s','h','i','m']'''\n",
    "\n",
    "l=list('hashim')"
   ]
  },
  {
   "cell_type": "code",
   "execution_count": 111,
   "id": "c71e9758-7ea4-4bbf-8179-0d0e68e11ed0",
   "metadata": {},
   "outputs": [
    {
     "data": {
      "text/plain": [
       "['h', 'a', 's', 'h', 'i', 'm']"
      ]
     },
     "execution_count": 111,
     "metadata": {},
     "output_type": "execute_result"
    }
   ],
   "source": [
    "l"
   ]
  },
  {
   "cell_type": "code",
   "execution_count": 112,
   "id": "83eddd67-dfc7-49f3-b1cf-9b6cd6a61ed9",
   "metadata": {},
   "outputs": [],
   "source": [
    "'''tuple(): Converts an iterable to a tuple.\n",
    "t=tuple([7, 8, 6])  \n",
    "#Converts the list [7, 8, 6] to a tuple (7,8,6)'''\n",
    "\n",
    "t=tuple([7,8,6])"
   ]
  },
  {
   "cell_type": "code",
   "execution_count": 113,
   "id": "6722c44c-de58-4c80-b5cd-b53e7b909ccc",
   "metadata": {},
   "outputs": [
    {
     "data": {
      "text/plain": [
       "(7, 8, 6)"
      ]
     },
     "execution_count": 113,
     "metadata": {},
     "output_type": "execute_result"
    }
   ],
   "source": [
    "t"
   ]
  },
  {
   "cell_type": "code",
   "execution_count": 114,
   "id": "1b21cdb3-fc14-4081-98c0-eb6d23551377",
   "metadata": {},
   "outputs": [],
   "source": [
    "'''set(): Converts an iterable to a set, removing duplicates and unordered.\n",
    "s=set([1,2,2,3,3,4,4,5,5]) \n",
    "Converts the list [1,2,2,3,3,4,4,5,5] to a set {1,2,3,4,5}'''\n",
    "\n",
    "s=set([1,2,2,3,3,4,4,5,5]) "
   ]
  },
  {
   "cell_type": "code",
   "execution_count": 115,
   "id": "1bc5489a-3e0d-4b80-a5bc-8f42ff276b68",
   "metadata": {},
   "outputs": [
    {
     "data": {
      "text/plain": [
       "{1, 2, 3, 4, 5}"
      ]
     },
     "execution_count": 115,
     "metadata": {},
     "output_type": "execute_result"
    }
   ],
   "source": [
    "s"
   ]
  },
  {
   "cell_type": "code",
   "execution_count": 116,
   "id": "4890277d-a808-43e5-98ab-41ed626710b3",
   "metadata": {},
   "outputs": [],
   "source": [
    "'''dict(): Converts an iterable of key-value pairs to a dictionary.\n",
    "d= dict([('h',7),('a',5),('s',12),('h',14),('i',1)]) \n",
    "\n",
    "Converts the list of tuples [('h',7),('a',5),('s',12),('h',14),('i',1)] to a \n",
    "dictionary {'h':7,'a':5,'s':12,'h':14,'i':1}'''\n",
    "\n",
    "d= dict([('h',7),('a',5),('s',12),('h',14),('i',1)]) \n"
   ]
  },
  {
   "cell_type": "code",
   "execution_count": 117,
   "id": "6a72a1a5-92d1-4d30-ac79-dc296c3a8469",
   "metadata": {},
   "outputs": [
    {
     "data": {
      "text/plain": [
       "{'h': 14, 'a': 5, 's': 12, 'i': 1}"
      ]
     },
     "execution_count": 117,
     "metadata": {},
     "output_type": "execute_result"
    }
   ],
   "source": [
    "d"
   ]
  },
  {
   "cell_type": "code",
   "execution_count": 118,
   "id": "9b423e57-506b-42f7-8ca7-6cfe237b7189",
   "metadata": {},
   "outputs": [],
   "source": [
    "'''bool(): Converts a value to a boolean data type. Generally, any non-zero value \n",
    "or non-empty object is considered True, while zero or empty objects are considered False\n",
    "r=bool(10)  \n",
    "Converts the integer 10 to boolean True'''\n",
    "\n",
    "r=bool(10) "
   ]
  },
  {
   "cell_type": "code",
   "execution_count": 119,
   "id": "bc3aeb87-a5df-4754-9ca6-412c924838c9",
   "metadata": {},
   "outputs": [
    {
     "data": {
      "text/plain": [
       "True"
      ]
     },
     "execution_count": 119,
     "metadata": {},
     "output_type": "execute_result"
    }
   ],
   "source": [
    "r"
   ]
  },
  {
   "cell_type": "markdown",
   "id": "e9edab8c-3c33-4083-8892-237e8b97ef65",
   "metadata": {},
   "source": [
    "Q5. Given a list my_list = [1, 2, 3, 4, 5], write the code to slice the list and obtain the sub-list [2, 3]."
   ]
  },
  {
   "cell_type": "code",
   "execution_count": 120,
   "id": "9698788b-05c6-4117-b928-d26ba29edaba",
   "metadata": {},
   "outputs": [],
   "source": [
    "my_list=[1,2,3,4,5]"
   ]
  },
  {
   "cell_type": "code",
   "execution_count": 121,
   "id": "9f7adc64-f429-4b6d-a333-3ee9797b75d7",
   "metadata": {},
   "outputs": [],
   "source": [
    "sub_list=my_list[1:3]"
   ]
  },
  {
   "cell_type": "code",
   "execution_count": 122,
   "id": "a2e2a19a-abb2-4c2d-bb33-0eb795987247",
   "metadata": {},
   "outputs": [
    {
     "name": "stdout",
     "output_type": "stream",
     "text": [
      "[2, 3]\n"
     ]
    }
   ],
   "source": [
    "print(sub_list)"
   ]
  },
  {
   "cell_type": "markdown",
   "id": "4ca66ed1-9cdb-4832-b184-7e5b9d1354b1",
   "metadata": {},
   "source": [
    "Q6. What is a complex number in mathematics, and how is it represented in Python?\n",
    "\n",
    "Sol: In mathematics, a complex number is a number of the form 'a+bj', where 'a' and 'b' are real numbers and 'j' represents thr imaginary part. The real part 'a' represents the real number component, and the imaginary part 'b' represents the imaginary number component.\n",
    "In python, complex number a built in data type used to represent and perform operations on complex numbers. In python, imaginary part is denoted by the letter 'j'."
   ]
  },
  {
   "cell_type": "code",
   "execution_count": 123,
   "id": "35860557-16c2-4449-b37b-9bfadbda9fce",
   "metadata": {},
   "outputs": [],
   "source": [
    "#A complex number can be represented in python using the following format:\n",
    "c=5+6j"
   ]
  },
  {
   "cell_type": "code",
   "execution_count": 124,
   "id": "2220b9d9-dbe3-4a73-8b4e-89e1dc7c8bec",
   "metadata": {},
   "outputs": [
    {
     "data": {
      "text/plain": [
       "complex"
      ]
     },
     "execution_count": 124,
     "metadata": {},
     "output_type": "execute_result"
    }
   ],
   "source": [
    "type(c)"
   ]
  },
  {
   "cell_type": "markdown",
   "id": "82f63314-ee03-4f93-b47c-92e9126e8ad4",
   "metadata": {},
   "source": [
    "Q7. What is the correct way to declare a variable named 'age 'and assign the value '25' to it?\n",
    "\n",
    "Sol: The correct way to declare a variable named 'age' and assign the value '25' to it in python is as follows:"
   ]
  },
  {
   "cell_type": "code",
   "execution_count": 125,
   "id": "3923a11e-575b-4479-b25b-2e7a44936b87",
   "metadata": {},
   "outputs": [
    {
     "data": {
      "text/plain": [
       "\"In the above code the variable 'age' is declared and assigned the value '25' using the assignment operator \\n('=').\\nOnce assigned, we can use the variable 'age' throughout our code to access or manipulate the assigned value.\""
      ]
     },
     "execution_count": 125,
     "metadata": {},
     "output_type": "execute_result"
    }
   ],
   "source": [
    "age=25\n",
    "'''In the above code the variable 'age' is declared and assigned the value '25' using the assignment operator \n",
    "('=').\n",
    "Once assigned, we can use the variable 'age' throughout our code to access or manipulate the assigned value.'''\n"
   ]
  },
  {
   "cell_type": "markdown",
   "id": "16717c0c-6d84-4cbb-a3ec-832539183f49",
   "metadata": {},
   "source": [
    "Q8. Declare a variable named price and assign the value 9.99 to it. What data type does this variable\n",
    "belong to?\n",
    "\n",
    "Sol: To Declare a variable named 'price' and assign the value '9.99' to it in python, we can use the following \n",
    "code.\n",
    "price=9.99\n",
    "In the above code the variable 'price' is declared and assigned the value '9.99' using the assignment operator ('='). The assigned value '9.99'is a decimal number, also known as a floating-point number."
   ]
  },
  {
   "cell_type": "code",
   "execution_count": 126,
   "id": "3559dac6-a214-4811-9b38-627258642c64",
   "metadata": {},
   "outputs": [],
   "source": [
    "price=9.99"
   ]
  },
  {
   "cell_type": "code",
   "execution_count": 127,
   "id": "a998c028-c727-4fb1-b314-c58b938cf63c",
   "metadata": {},
   "outputs": [
    {
     "data": {
      "text/plain": [
       "float"
      ]
     },
     "execution_count": 127,
     "metadata": {},
     "output_type": "execute_result"
    }
   ],
   "source": [
    "type(price)"
   ]
  },
  {
   "cell_type": "markdown",
   "id": "85d704b8-8739-48e9-83b5-e875c4d92517",
   "metadata": {},
   "source": [
    "In the above code, the variable 'price' belongs to the data type 'float' in the python. A float data type represents number with a fractional part."
   ]
  },
  {
   "cell_type": "markdown",
   "id": "6ce2526f-1682-4a36-987f-ba0de4352a8f",
   "metadata": {},
   "source": [
    "Q9. Create a variable named name and assign your full name to it as a string. How would you print the\n",
    "value of this variable?\n",
    "\n",
    "Sol: To create a variable named 'name' and assign my full name to it as a string, i can use the following code.\n",
    "name='Hashim Abass khan'\n",
    "\n",
    "To print the value of 'name' variable in the python, we can use the 'print()' function.\n",
    "Here's how we can do it:"
   ]
  },
  {
   "cell_type": "code",
   "execution_count": 128,
   "id": "dd0eaf4a-0fa4-46b7-b30a-51ad6f1b4a2d",
   "metadata": {},
   "outputs": [
    {
     "name": "stdout",
     "output_type": "stream",
     "text": [
      "Hashim Abass Khan\n"
     ]
    }
   ],
   "source": [
    "name='Hashim Abass Khan'\n",
    "print(name)"
   ]
  },
  {
   "cell_type": "markdown",
   "id": "1453f310-569b-41b6-97cf-a557b9bea3eb",
   "metadata": {},
   "source": [
    "Q10. Given the string \"Hello, World!\", extract the substring \"World\".\n",
    "\n",
    "Sol: To extract the substring \"world\" from the given string \"Hello,World!\", we can use string slicing \n",
    "in the Python.\n",
    "Here's the code."
   ]
  },
  {
   "cell_type": "code",
   "execution_count": 129,
   "id": "0e5723af-ddcb-464c-8a19-743bb51d069c",
   "metadata": {},
   "outputs": [],
   "source": [
    "s=\"Hello,world!\"\n",
    "#First i we'll check the length of the string"
   ]
  },
  {
   "cell_type": "code",
   "execution_count": 130,
   "id": "b89a6e92-09e5-4e2b-9744-fbcc58e8ea21",
   "metadata": {},
   "outputs": [
    {
     "data": {
      "text/plain": [
       "12"
      ]
     },
     "execution_count": 130,
     "metadata": {},
     "output_type": "execute_result"
    }
   ],
   "source": [
    "len(s)"
   ]
  },
  {
   "cell_type": "code",
   "execution_count": 131,
   "id": "6691f737-83c5-4c44-8e45-6ad5cf9492da",
   "metadata": {},
   "outputs": [
    {
     "data": {
      "text/plain": [
       "'world'"
      ]
     },
     "execution_count": 131,
     "metadata": {},
     "output_type": "execute_result"
    }
   ],
   "source": [
    "s=\"Hello,world!\"\n",
    "s[6:11]"
   ]
  },
  {
   "cell_type": "markdown",
   "id": "51da36f6-e637-475e-b670-4f62d98270fb",
   "metadata": {},
   "source": [
    "In the above code, s[6:11] specifies a slice that starts at index 6 (inclusive) and ends at index 11 (exclusive). This range includes the characters at indices 6, 7, 8, 9, and 10, which correspond to the substring \"World\" in the original string. The resulting substring \"World\"."
   ]
  },
  {
   "cell_type": "markdown",
   "id": "de2f884e-8122-4285-a097-0819bef4c813",
   "metadata": {},
   "source": [
    "Q11. Create a variable named \"is_student\" and assign it a boolean value indicating whether you are\n",
    "currently a student or not.\n",
    "\n",
    "Sol. To create a variable named \"is_student\" and assign it a boolen value indicating whether you are currently a student or not, we can use the following code:"
   ]
  },
  {
   "cell_type": "code",
   "execution_count": 132,
   "id": "dc80769c-0d56-4e0d-b368-7dc34000ccff",
   "metadata": {},
   "outputs": [],
   "source": [
    "is_student=True"
   ]
  },
  {
   "cell_type": "code",
   "execution_count": 133,
   "id": "39944002-3981-4afb-a7e2-165412460c5d",
   "metadata": {},
   "outputs": [
    {
     "data": {
      "text/plain": [
       "True"
      ]
     },
     "execution_count": 133,
     "metadata": {},
     "output_type": "execute_result"
    }
   ],
   "source": [
    "is_student"
   ]
  },
  {
   "cell_type": "code",
   "execution_count": 134,
   "id": "3533eb14-1da6-42f2-ae74-46e114e0a6a7",
   "metadata": {},
   "outputs": [],
   "source": [
    "is_student=False"
   ]
  },
  {
   "cell_type": "code",
   "execution_count": 135,
   "id": "ae78b6c4-5382-406e-9292-61d8ed71217e",
   "metadata": {},
   "outputs": [
    {
     "data": {
      "text/plain": [
       "False"
      ]
     },
     "execution_count": 135,
     "metadata": {},
     "output_type": "execute_result"
    }
   ],
   "source": [
    "is_student"
   ]
  },
  {
   "cell_type": "markdown",
   "id": "1123783e-3a5d-4f40-995c-97bd87c714d0",
   "metadata": {},
   "source": [
    "In the above codes, the variable 'is_student' is declared and assigned the boolen values \"True\" and \"False\". This indicates that you are currently a student or not."
   ]
  },
  {
   "cell_type": "code",
   "execution_count": null,
   "id": "73758bc7-8aac-46ed-9d19-c63b799819a0",
   "metadata": {},
   "outputs": [],
   "source": []
  }
 ],
 "metadata": {
  "kernelspec": {
   "display_name": "Python 3 (ipykernel)",
   "language": "python",
   "name": "python3"
  },
  "language_info": {
   "codemirror_mode": {
    "name": "ipython",
    "version": 3
   },
   "file_extension": ".py",
   "mimetype": "text/x-python",
   "name": "python",
   "nbconvert_exporter": "python",
   "pygments_lexer": "ipython3",
   "version": "3.10.8"
  }
 },
 "nbformat": 4,
 "nbformat_minor": 5
}
